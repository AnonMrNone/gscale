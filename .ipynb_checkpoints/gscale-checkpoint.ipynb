{
 "cells": [
  {
   "cell_type": "code",
   "execution_count": null,
   "metadata": {},
   "outputs": [],
   "source": [
    "import gscale_login\n",
    "import gscale_sg\n",
    "import gscale_instance\n",
    "import gscale_CFdistri"
   ]
  },
  {
   "cell_type": "code",
   "execution_count": null,
   "metadata": {},
   "outputs": [],
   "source": [
    "if gscale_login.gscaleLogin():\n",
    "    secuGID= gscale_sg.gscaleSecurityGroup()\n",
    "    instance= gscale_instance.gscaleInstance(secuGroup= secuGID)\n",
    "    gscale_CFdistri.gscaleCF(keyName= instance[0],insPubIp= instance[1])\n",
    "else:\n",
    "    exit()"
   ]
  }
 ],
 "metadata": {
  "kernelspec": {
   "display_name": "Python 3",
   "language": "python",
   "name": "python3"
  },
  "language_info": {
   "codemirror_mode": {
    "name": "ipython",
    "version": 3
   },
   "file_extension": ".py",
   "mimetype": "text/x-python",
   "name": "python",
   "nbconvert_exporter": "python",
   "pygments_lexer": "ipython3",
   "version": "3.7.4"
  }
 },
 "nbformat": 4,
 "nbformat_minor": 2
}
